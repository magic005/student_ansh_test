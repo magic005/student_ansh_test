{
 "cells": [
  {
   "cell_type": "markdown",
   "id": "83f34af8",
   "metadata": {},
   "source": [
    "---\n",
    "toc: false\n",
    "comments: true\n",
    "layout: post\n",
    "title: User Story\n",
    "permalink: /documentation/user_story/\n",
    "menu: nav/tools_setup.html\n",
    "---"
   ]
  },
  {
   "cell_type": "markdown",
   "id": "0086ac11",
   "metadata": {},
   "source": [
    "As a potential computer science teacher, I want to complete interactive lessons and quizzes on core computer science tools, so that I can demonstrate my understanding and become certified to teach Computer Science Principles (CSP).\n",
    "\n",
    "#### To do this, I will...\n",
    "\n",
    "Develop an interactive platform that provides structured lessons, quizzes, and a leaderboard system. This platform will help teachers learn the essential digital tools needed to run a CSP class, measure their progress, and motivate them to complete the training. Each component will be designed for clarity, ease of use, and self-paced learning.\n",
    "\n",
    "#### Features and Generalized Checklists\n",
    "\n",
    "Lessons Portal\n",
    "\n",
    "- Provide a guided interface where teachers can access CS lessons on tools like GitHub and account setup.\n",
    "\n",
    "- Show learning status for each module (e.g., complete/incomplete) with the click of a button.\n",
    "\n",
    "- Create a point system that allows teachers to track their performance.\n",
    "\n",
    "Quizzes\n",
    "\n",
    "- Integrate flashcards to lessons for assessing tool knowledge (e.g., GitHub workflow, Pages).\n",
    "\n",
    "- Store quiz progress and scores locally to track completion.\n",
    "\n",
    "- Ensure thorough understanding of topics through revision of incorrect problems.\n",
    "\n",
    "Leaderboard\n",
    "\n",
    "- Display a live list of participant names and scores to promote engagement.\n",
    "\n",
    "- Allow users to submit scores securely to a backend database.\n",
    "\n",
    "- Refresh leaderboard after submission to show updated rankings.\n",
    "\n",
    "Save & Reset Final Score\n",
    "\n",
    "- Submit a teacher’s cumulative score once all modules are completed.\n",
    "\n",
    "- Send data securely with authentication using a stored JWT token.\n",
    "\n",
    "- Reset progress and points after a successful submission for reuse or review."
   ]
  }
 ],
 "metadata": {
  "language_info": {
   "name": "python"
  }
 },
 "nbformat": 4,
 "nbformat_minor": 5
}
