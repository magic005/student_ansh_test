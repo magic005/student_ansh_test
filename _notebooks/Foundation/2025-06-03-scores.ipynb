{
 "cells": [
  {
   "cell_type": "raw",
   "id": "b228d404",
   "metadata": {
    "vscode": {
     "languageId": "raw"
    }
   },
   "source": [
    "---\n",
    "layout: post\n",
    "title: Scores \n",
    "description:  Development for the Scores API and Model\n",
    "type: issues \n",
    "comments: false\n",
    "---"
   ]
  },
  {
   "cell_type": "markdown",
   "id": "3eb1a670",
   "metadata": {},
   "source": [
    "# Repositories overview"
   ]
  },
  {
   "cell_type": "markdown",
   "id": "a96e99af",
   "metadata": {
    "vscode": {
     "languageId": "raw"
    }
   },
   "source": [
    "<img src=\"{{site.baseurl}}/images/thing.png\" alt=\"New Repo Page\" style=\"width:50%; border-radius: 12px;\"/>"
   ]
  },
  {
   "cell_type": "markdown",
   "id": "dab82f23",
   "metadata": {},
   "source": [
    "### Defines the API POST method"
   ]
  },
  {
   "cell_type": "markdown",
   "id": "03c5f622",
   "metadata": {},
   "source": [
    "<img src=\"{{site.baseurl}}/images/post.png\" alt=\"New Repo Page\" style=\"width:50%; border-radius: 12px;\"/>"
   ]
  },
  {
   "cell_type": "markdown",
   "id": "a4cdc164",
   "metadata": {},
   "source": [
    "# Defines the API GET method"
   ]
  },
  {
   "cell_type": "markdown",
   "id": "016f6b0d",
   "metadata": {},
   "source": [
    "<img src=\"{{site.baseurl}}/images/get.png\" alt=\"New Repo Page\" style=\"width:50%; border-radius: 12px;\"/>"
   ]
  },
  {
   "cell_type": "markdown",
   "id": "fc7961c7",
   "metadata": {},
   "source": [
    "# Scores Model code:\n",
    "<img src=\"{{site.baseurl}}/images/scores_model.png\" alt=\"New Repo Page\" style=\"width:50%; border-radius: 12px;\"/>"
   ]
  },
  {
   "cell_type": "markdown",
   "id": "8830ac48",
   "metadata": {},
   "source": [
    "# Where we have defined scores related to users:\n",
    "<img src=\"{{site.baseurl}}/images/related.png\" alt=\"New Repo Page\" style=\"width:50%; border-radius: 12px;\"/>\n",
    "<img src=\"{{site.baseurl}}/images/user_score.png\" alt=\"New Repo Page\" style=\"width:50%; border-radius: 12px;\"/>\n"
   ]
  },
  {
   "cell_type": "markdown",
   "id": "bc4ccafc",
   "metadata": {},
   "source": [
    "# Flow"
   ]
  },
  {
   "cell_type": "markdown",
   "id": "160eae8d",
   "metadata": {},
   "source": [
    "<img src=\"{{site.baseurl}}/images/flow.png\" alt=\"New Repo Page\" style=\"width:50%; border-radius: 12px;\"/>"
   ]
  },
  {
   "cell_type": "markdown",
   "id": "fdd2cd07",
   "metadata": {},
   "source": [
    "# Frontend"
   ]
  },
  {
   "cell_type": "markdown",
   "id": "d86aaf0c",
   "metadata": {},
   "source": [
    "<p>Storing token in localStorage</p>\n",
    "<img src=\"{{site.baseurl}}/images/token.png\" alt=\"New Repo Page\" style=\"width:50%; border-radius: 12px;\"/>"
   ]
  },
  {
   "cell_type": "markdown",
   "id": "315712d7",
   "metadata": {},
   "source": [
    "<p>How scores is used in frontend</p>\n",
    "Used for getting names and scores\n",
    "<img src=\"{{site.baseurl}}/images/scores(leaderboard).png\" alt=\"New Repo Page\" style=\"width:50%; border-radius: 12px;\"/>"
   ]
  },
  {
   "cell_type": "markdown",
   "id": "ca0af98e",
   "metadata": {},
   "source": [
    "<p>Used for posting scores</p>\n",
    "<img src=\"{{site.baseurl}}/images/scores_post.png\" alt=\"New Repo Page\" style=\"width:50%; border-radius: 12px;\"/>"
   ]
  }
 ],
 "metadata": {
  "language_info": {
   "name": "python"
  }
 },
 "nbformat": 4,
 "nbformat_minor": 5
}
