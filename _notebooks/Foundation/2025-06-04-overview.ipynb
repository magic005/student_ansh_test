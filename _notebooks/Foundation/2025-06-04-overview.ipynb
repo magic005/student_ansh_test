{
 "cells": [
  {
   "cell_type": "raw",
   "id": "a79a8dfa",
   "metadata": {
    "vscode": {
     "languageId": "raw"
    }
   },
   "source": [
    "---\n",
    "layout: post\n",
    "title: Overview \n",
    "description:  Overview of our project\n",
    "type: issues \n",
    "comments: false\n",
    "---"
   ]
  },
  {
   "cell_type": "markdown",
   "id": "02d69577",
   "metadata": {},
   "source": [
    "#  Open Coding Society Setup Redesign — Contributor Documentation\n",
    "\n",
    "Welcome to the **Open Coding Society Setup Redesign Project**!  \n",
    "This project improves how students are onboarded into coding by simplifying the setup process across several tools and tracking their understanding with quizzes and a leaderboard.\n",
    "\n",
    "---\n",
    "\n",
    "##  Objective\n",
    "\n",
    "To redesign instructional pages on the Open Coding Society site so students can more easily:\n",
    "- Understand **what accounts to create** and why (including PII awareness)\n",
    "- Use **GitHub Pages** to deploy static sites in-browser via VSCode\n",
    "- Learn **Git/GitHub workflows** like `git pull`, `commit`, `forking`, etc.\n",
    "\n",
    "The site now also includes a login system, progress-tracking quizzes, and a working leaderboard.\n",
    "\n",
    "---\n",
    "\n",
    "##  What We Did\n",
    "\n",
    "###  Redesigned Pages\n",
    "\n",
    "1. **Accounts Page**\n",
    "   - Teaches what accounts to create (GitHub, Replit, etc.)\n",
    "   - Introduces the concept of PII and safe digital practices\n",
    "\n",
    "2. **GitHub Pages Page**\n",
    "   - Teaches how GitHub Pages works\n",
    "   - Includes deployment of VSCode in-browser\n",
    "   - Guides students to publish their first static website\n",
    "\n",
    "3. **GitHub Workflows Page**\n",
    "   - Covers essential Git commands like `pull`, `commit`, `clone`, `fork`\n",
    "   - Explains why these actions matter in collaboration\n",
    "\n",
    "---\n",
    "\n",
    "###  Backend + Frontend Features\n",
    "\n",
    "- **Login System**: Users sign in; their token is saved in `localStorage`\n",
    "- **Token Authenticated Score Submission**: Only logged-in users can submit scores\n",
    "- **Quiz Completion Requirement**: All 3 quizzes (one per page) must be completed before score submission\n",
    "- **Relational Database**: Each score is tied to a specific user through a user ID (foreign key)\n",
    "- **Leaderboard**: Displays names and scores from the backend in order\n",
    "\n",
    "---\n",
    "\n",
    "##  Data Flow Overview\n",
    "\n",
    "User Logs In ➜ Token Saved in localStorage\n",
    "⬇\n",
    "User Completes 3 Quizzes ➜ localStorage Tracks Completion\n",
    "⬇\n",
    "User Clicks Submit Score ➜ POST Request with Score. Synced to logged in User because of related table\n",
    "⬇\n",
    "Backend Stores Score (linked to User) ➜ Leaderboard Displays It"
   ]
  }
 ],
 "metadata": {
  "language_info": {
   "name": "python"
  }
 },
 "nbformat": 4,
 "nbformat_minor": 5
}
